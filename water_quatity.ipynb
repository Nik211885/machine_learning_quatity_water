{
  "nbformat": 4,
  "nbformat_minor": 0,
  "metadata": {
    "colab": {
      "provenance": [],
      "authorship_tag": "ABX9TyPYuxkP5RUWQUHZH0QKkkUu",
      "include_colab_link": true
    },
    "kernelspec": {
      "name": "python3",
      "display_name": "Python 3"
    },
    "language_info": {
      "name": "python"
    }
  },
  "cells": [
    {
      "cell_type": "markdown",
      "metadata": {
        "id": "view-in-github",
        "colab_type": "text"
      },
      "source": [
        "<a href=\"https://colab.research.google.com/github/Nik211885/machine_learning_quatity_water/blob/main/water_quatity.ipynb\" target=\"_parent\"><img src=\"https://colab.research.google.com/assets/colab-badge.svg\" alt=\"Open In Colab\"/></a>"
      ]
    },
    {
      "cell_type": "code",
      "execution_count": 27,
      "metadata": {
        "id": "FQ46s-V6pod3"
      },
      "outputs": [],
      "source": [
        "import numpy as np\n",
        "import pandas as pd\n",
        "import matplotlib.pyplot as plt\n",
        "from imblearn.over_sampling import RandomOverSampler\n",
        "import sklearn.preprocessing as sklp\n",
        "from sklearn.metrics import classification_report\n",
        "from sklearn.metrics import accuracy_score"
      ]
    },
    {
      "cell_type": "code",
      "source": [
        "df = pd.read_csv('./water_potability.csv')"
      ],
      "metadata": {
        "id": "TUez1pbZpzVP"
      },
      "execution_count": 10,
      "outputs": []
    },
    {
      "cell_type": "code",
      "source": [
        "df.head()"
      ],
      "metadata": {
        "colab": {
          "base_uri": "https://localhost:8080/",
          "height": 206
        },
        "id": "0Vajcdo8qSb1",
        "outputId": "7e5d7a24-272f-4db9-a210-b57dd22df7be"
      },
      "execution_count": 11,
      "outputs": [
        {
          "output_type": "execute_result",
          "data": {
            "text/plain": [
              "         ph    Hardness        Solids  Chloramines     Sulfate  Conductivity  \\\n",
              "0       NaN  204.890455  20791.318981     7.300212  368.516441    564.308654   \n",
              "1  3.716080  129.422921  18630.057858     6.635246         NaN    592.885359   \n",
              "2  8.099124  224.236259  19909.541732     9.275884         NaN    418.606213   \n",
              "3  8.316766  214.373394  22018.417441     8.059332  356.886136    363.266516   \n",
              "4  9.092223  181.101509  17978.986339     6.546600  310.135738    398.410813   \n",
              "\n",
              "   Organic_carbon  Trihalomethanes  Turbidity  Potability  \n",
              "0       10.379783        86.990970   2.963135           0  \n",
              "1       15.180013        56.329076   4.500656           0  \n",
              "2       16.868637        66.420093   3.055934           0  \n",
              "3       18.436524       100.341674   4.628771           0  \n",
              "4       11.558279        31.997993   4.075075           0  "
            ],
            "text/html": [
              "\n",
              "  <div id=\"df-3701650d-d8bb-4692-9ccd-112fffa2345c\" class=\"colab-df-container\">\n",
              "    <div>\n",
              "<style scoped>\n",
              "    .dataframe tbody tr th:only-of-type {\n",
              "        vertical-align: middle;\n",
              "    }\n",
              "\n",
              "    .dataframe tbody tr th {\n",
              "        vertical-align: top;\n",
              "    }\n",
              "\n",
              "    .dataframe thead th {\n",
              "        text-align: right;\n",
              "    }\n",
              "</style>\n",
              "<table border=\"1\" class=\"dataframe\">\n",
              "  <thead>\n",
              "    <tr style=\"text-align: right;\">\n",
              "      <th></th>\n",
              "      <th>ph</th>\n",
              "      <th>Hardness</th>\n",
              "      <th>Solids</th>\n",
              "      <th>Chloramines</th>\n",
              "      <th>Sulfate</th>\n",
              "      <th>Conductivity</th>\n",
              "      <th>Organic_carbon</th>\n",
              "      <th>Trihalomethanes</th>\n",
              "      <th>Turbidity</th>\n",
              "      <th>Potability</th>\n",
              "    </tr>\n",
              "  </thead>\n",
              "  <tbody>\n",
              "    <tr>\n",
              "      <th>0</th>\n",
              "      <td>NaN</td>\n",
              "      <td>204.890455</td>\n",
              "      <td>20791.318981</td>\n",
              "      <td>7.300212</td>\n",
              "      <td>368.516441</td>\n",
              "      <td>564.308654</td>\n",
              "      <td>10.379783</td>\n",
              "      <td>86.990970</td>\n",
              "      <td>2.963135</td>\n",
              "      <td>0</td>\n",
              "    </tr>\n",
              "    <tr>\n",
              "      <th>1</th>\n",
              "      <td>3.716080</td>\n",
              "      <td>129.422921</td>\n",
              "      <td>18630.057858</td>\n",
              "      <td>6.635246</td>\n",
              "      <td>NaN</td>\n",
              "      <td>592.885359</td>\n",
              "      <td>15.180013</td>\n",
              "      <td>56.329076</td>\n",
              "      <td>4.500656</td>\n",
              "      <td>0</td>\n",
              "    </tr>\n",
              "    <tr>\n",
              "      <th>2</th>\n",
              "      <td>8.099124</td>\n",
              "      <td>224.236259</td>\n",
              "      <td>19909.541732</td>\n",
              "      <td>9.275884</td>\n",
              "      <td>NaN</td>\n",
              "      <td>418.606213</td>\n",
              "      <td>16.868637</td>\n",
              "      <td>66.420093</td>\n",
              "      <td>3.055934</td>\n",
              "      <td>0</td>\n",
              "    </tr>\n",
              "    <tr>\n",
              "      <th>3</th>\n",
              "      <td>8.316766</td>\n",
              "      <td>214.373394</td>\n",
              "      <td>22018.417441</td>\n",
              "      <td>8.059332</td>\n",
              "      <td>356.886136</td>\n",
              "      <td>363.266516</td>\n",
              "      <td>18.436524</td>\n",
              "      <td>100.341674</td>\n",
              "      <td>4.628771</td>\n",
              "      <td>0</td>\n",
              "    </tr>\n",
              "    <tr>\n",
              "      <th>4</th>\n",
              "      <td>9.092223</td>\n",
              "      <td>181.101509</td>\n",
              "      <td>17978.986339</td>\n",
              "      <td>6.546600</td>\n",
              "      <td>310.135738</td>\n",
              "      <td>398.410813</td>\n",
              "      <td>11.558279</td>\n",
              "      <td>31.997993</td>\n",
              "      <td>4.075075</td>\n",
              "      <td>0</td>\n",
              "    </tr>\n",
              "  </tbody>\n",
              "</table>\n",
              "</div>\n",
              "    <div class=\"colab-df-buttons\">\n",
              "\n",
              "  <div class=\"colab-df-container\">\n",
              "    <button class=\"colab-df-convert\" onclick=\"convertToInteractive('df-3701650d-d8bb-4692-9ccd-112fffa2345c')\"\n",
              "            title=\"Convert this dataframe to an interactive table.\"\n",
              "            style=\"display:none;\">\n",
              "\n",
              "  <svg xmlns=\"http://www.w3.org/2000/svg\" height=\"24px\" viewBox=\"0 -960 960 960\">\n",
              "    <path d=\"M120-120v-720h720v720H120Zm60-500h600v-160H180v160Zm220 220h160v-160H400v160Zm0 220h160v-160H400v160ZM180-400h160v-160H180v160Zm440 0h160v-160H620v160ZM180-180h160v-160H180v160Zm440 0h160v-160H620v160Z\"/>\n",
              "  </svg>\n",
              "    </button>\n",
              "\n",
              "  <style>\n",
              "    .colab-df-container {\n",
              "      display:flex;\n",
              "      gap: 12px;\n",
              "    }\n",
              "\n",
              "    .colab-df-convert {\n",
              "      background-color: #E8F0FE;\n",
              "      border: none;\n",
              "      border-radius: 50%;\n",
              "      cursor: pointer;\n",
              "      display: none;\n",
              "      fill: #1967D2;\n",
              "      height: 32px;\n",
              "      padding: 0 0 0 0;\n",
              "      width: 32px;\n",
              "    }\n",
              "\n",
              "    .colab-df-convert:hover {\n",
              "      background-color: #E2EBFA;\n",
              "      box-shadow: 0px 1px 2px rgba(60, 64, 67, 0.3), 0px 1px 3px 1px rgba(60, 64, 67, 0.15);\n",
              "      fill: #174EA6;\n",
              "    }\n",
              "\n",
              "    .colab-df-buttons div {\n",
              "      margin-bottom: 4px;\n",
              "    }\n",
              "\n",
              "    [theme=dark] .colab-df-convert {\n",
              "      background-color: #3B4455;\n",
              "      fill: #D2E3FC;\n",
              "    }\n",
              "\n",
              "    [theme=dark] .colab-df-convert:hover {\n",
              "      background-color: #434B5C;\n",
              "      box-shadow: 0px 1px 3px 1px rgba(0, 0, 0, 0.15);\n",
              "      filter: drop-shadow(0px 1px 2px rgba(0, 0, 0, 0.3));\n",
              "      fill: #FFFFFF;\n",
              "    }\n",
              "  </style>\n",
              "\n",
              "    <script>\n",
              "      const buttonEl =\n",
              "        document.querySelector('#df-3701650d-d8bb-4692-9ccd-112fffa2345c button.colab-df-convert');\n",
              "      buttonEl.style.display =\n",
              "        google.colab.kernel.accessAllowed ? 'block' : 'none';\n",
              "\n",
              "      async function convertToInteractive(key) {\n",
              "        const element = document.querySelector('#df-3701650d-d8bb-4692-9ccd-112fffa2345c');\n",
              "        const dataTable =\n",
              "          await google.colab.kernel.invokeFunction('convertToInteractive',\n",
              "                                                    [key], {});\n",
              "        if (!dataTable) return;\n",
              "\n",
              "        const docLinkHtml = 'Like what you see? Visit the ' +\n",
              "          '<a target=\"_blank\" href=https://colab.research.google.com/notebooks/data_table.ipynb>data table notebook</a>'\n",
              "          + ' to learn more about interactive tables.';\n",
              "        element.innerHTML = '';\n",
              "        dataTable['output_type'] = 'display_data';\n",
              "        await google.colab.output.renderOutput(dataTable, element);\n",
              "        const docLink = document.createElement('div');\n",
              "        docLink.innerHTML = docLinkHtml;\n",
              "        element.appendChild(docLink);\n",
              "      }\n",
              "    </script>\n",
              "  </div>\n",
              "\n",
              "\n",
              "<div id=\"df-a699ec6b-44fc-4f36-b2f2-24c5a15baf1e\">\n",
              "  <button class=\"colab-df-quickchart\" onclick=\"quickchart('df-a699ec6b-44fc-4f36-b2f2-24c5a15baf1e')\"\n",
              "            title=\"Suggest charts.\"\n",
              "            style=\"display:none;\">\n",
              "\n",
              "<svg xmlns=\"http://www.w3.org/2000/svg\" height=\"24px\"viewBox=\"0 0 24 24\"\n",
              "     width=\"24px\">\n",
              "    <g>\n",
              "        <path d=\"M19 3H5c-1.1 0-2 .9-2 2v14c0 1.1.9 2 2 2h14c1.1 0 2-.9 2-2V5c0-1.1-.9-2-2-2zM9 17H7v-7h2v7zm4 0h-2V7h2v10zm4 0h-2v-4h2v4z\"/>\n",
              "    </g>\n",
              "</svg>\n",
              "  </button>\n",
              "\n",
              "<style>\n",
              "  .colab-df-quickchart {\n",
              "      --bg-color: #E8F0FE;\n",
              "      --fill-color: #1967D2;\n",
              "      --hover-bg-color: #E2EBFA;\n",
              "      --hover-fill-color: #174EA6;\n",
              "      --disabled-fill-color: #AAA;\n",
              "      --disabled-bg-color: #DDD;\n",
              "  }\n",
              "\n",
              "  [theme=dark] .colab-df-quickchart {\n",
              "      --bg-color: #3B4455;\n",
              "      --fill-color: #D2E3FC;\n",
              "      --hover-bg-color: #434B5C;\n",
              "      --hover-fill-color: #FFFFFF;\n",
              "      --disabled-bg-color: #3B4455;\n",
              "      --disabled-fill-color: #666;\n",
              "  }\n",
              "\n",
              "  .colab-df-quickchart {\n",
              "    background-color: var(--bg-color);\n",
              "    border: none;\n",
              "    border-radius: 50%;\n",
              "    cursor: pointer;\n",
              "    display: none;\n",
              "    fill: var(--fill-color);\n",
              "    height: 32px;\n",
              "    padding: 0;\n",
              "    width: 32px;\n",
              "  }\n",
              "\n",
              "  .colab-df-quickchart:hover {\n",
              "    background-color: var(--hover-bg-color);\n",
              "    box-shadow: 0 1px 2px rgba(60, 64, 67, 0.3), 0 1px 3px 1px rgba(60, 64, 67, 0.15);\n",
              "    fill: var(--button-hover-fill-color);\n",
              "  }\n",
              "\n",
              "  .colab-df-quickchart-complete:disabled,\n",
              "  .colab-df-quickchart-complete:disabled:hover {\n",
              "    background-color: var(--disabled-bg-color);\n",
              "    fill: var(--disabled-fill-color);\n",
              "    box-shadow: none;\n",
              "  }\n",
              "\n",
              "  .colab-df-spinner {\n",
              "    border: 2px solid var(--fill-color);\n",
              "    border-color: transparent;\n",
              "    border-bottom-color: var(--fill-color);\n",
              "    animation:\n",
              "      spin 1s steps(1) infinite;\n",
              "  }\n",
              "\n",
              "  @keyframes spin {\n",
              "    0% {\n",
              "      border-color: transparent;\n",
              "      border-bottom-color: var(--fill-color);\n",
              "      border-left-color: var(--fill-color);\n",
              "    }\n",
              "    20% {\n",
              "      border-color: transparent;\n",
              "      border-left-color: var(--fill-color);\n",
              "      border-top-color: var(--fill-color);\n",
              "    }\n",
              "    30% {\n",
              "      border-color: transparent;\n",
              "      border-left-color: var(--fill-color);\n",
              "      border-top-color: var(--fill-color);\n",
              "      border-right-color: var(--fill-color);\n",
              "    }\n",
              "    40% {\n",
              "      border-color: transparent;\n",
              "      border-right-color: var(--fill-color);\n",
              "      border-top-color: var(--fill-color);\n",
              "    }\n",
              "    60% {\n",
              "      border-color: transparent;\n",
              "      border-right-color: var(--fill-color);\n",
              "    }\n",
              "    80% {\n",
              "      border-color: transparent;\n",
              "      border-right-color: var(--fill-color);\n",
              "      border-bottom-color: var(--fill-color);\n",
              "    }\n",
              "    90% {\n",
              "      border-color: transparent;\n",
              "      border-bottom-color: var(--fill-color);\n",
              "    }\n",
              "  }\n",
              "</style>\n",
              "\n",
              "  <script>\n",
              "    async function quickchart(key) {\n",
              "      const quickchartButtonEl =\n",
              "        document.querySelector('#' + key + ' button');\n",
              "      quickchartButtonEl.disabled = true;  // To prevent multiple clicks.\n",
              "      quickchartButtonEl.classList.add('colab-df-spinner');\n",
              "      try {\n",
              "        const charts = await google.colab.kernel.invokeFunction(\n",
              "            'suggestCharts', [key], {});\n",
              "      } catch (error) {\n",
              "        console.error('Error during call to suggestCharts:', error);\n",
              "      }\n",
              "      quickchartButtonEl.classList.remove('colab-df-spinner');\n",
              "      quickchartButtonEl.classList.add('colab-df-quickchart-complete');\n",
              "    }\n",
              "    (() => {\n",
              "      let quickchartButtonEl =\n",
              "        document.querySelector('#df-a699ec6b-44fc-4f36-b2f2-24c5a15baf1e button');\n",
              "      quickchartButtonEl.style.display =\n",
              "        google.colab.kernel.accessAllowed ? 'block' : 'none';\n",
              "    })();\n",
              "  </script>\n",
              "</div>\n",
              "    </div>\n",
              "  </div>\n"
            ]
          },
          "metadata": {},
          "execution_count": 11
        }
      ]
    },
    {
      "cell_type": "code",
      "source": [
        "for label in df[df.columns[:-1]]:\n",
        "  plt.hist(df[df['Potability']==1][label],label ='Drinkable',alpha = 0.7,density = True)\n",
        "  plt.hist(df[df['Potability']==0][label],label ='Should Not Drink',alpha = 0.7,density = True)\n",
        "  plt.xlabel(label)\n",
        "  plt.ylabel('Potability')\n",
        "  plt.legend()\n",
        "  plt.show()"
      ],
      "metadata": {
        "id": "a3mg17bs-G7l"
      },
      "execution_count": null,
      "outputs": []
    },
    {
      "cell_type": "markdown",
      "source": [
        "Dữ liệu không tuyến tính"
      ],
      "metadata": {
        "id": "W0RSFpV6_q6H"
      }
    },
    {
      "cell_type": "markdown",
      "source": [
        "#Xử lý dữ liệu"
      ],
      "metadata": {
        "id": "IBtlvqtM_2Ff"
      }
    },
    {
      "cell_type": "code",
      "source": [
        "from sklearn.model_selection import train_test_split"
      ],
      "metadata": {
        "id": "2MtE7c9T_5eu"
      },
      "execution_count": 13,
      "outputs": []
    },
    {
      "cell_type": "markdown",
      "source": [
        "\n",
        "Split data\n",
        "\n"
      ],
      "metadata": {
        "id": "9NLcF_KG_kAs"
      }
    },
    {
      "cell_type": "code",
      "source": [
        "#Lấp đầy các dữ liệu nan bằng 1 giá trị triung bình trên tập means trung bình trên tập\n",
        "df.fillna(df.mean(), inplace=True)\n",
        "\n",
        "# Lay ngau nhien 80% trong tap df lam tap huan luyện và 20 % test để đánh giá mô hình\n",
        "train, test = train_test_split(df,train_size=0.8)"
      ],
      "metadata": {
        "id": "9Zuw5oFgAMRE"
      },
      "execution_count": 14,
      "outputs": []
    },
    {
      "cell_type": "code",
      "source": [
        "def scale_data(dataframe,over = 1):\n",
        "  X = dataframe[dataframe.columns[:-1]]\n",
        "  Y = dataframe[dataframe.columns[-1]]\n",
        "  if(over):\n",
        "    #Lấy mẫu sau cho cân bằng nhất\n",
        "    r = RandomOverSampler()\n",
        "    X,Y = r.fit_resample(X,Y)\n",
        "\n",
        "  # Chuẩn hóa dữ liệu đầu vào\n",
        "  scaler = sklp.StandardScaler()\n",
        "\n",
        "  X = scaler.fit_transform(X)\n",
        "\n",
        "  return X,Y"
      ],
      "metadata": {
        "id": "iIjriH5AAYVo"
      },
      "execution_count": 15,
      "outputs": []
    },
    {
      "cell_type": "code",
      "source": [
        "X_train, y_train = scale_data(train)\n",
        "X_test, y_test = scale_data(test)"
      ],
      "metadata": {
        "id": "Hfc8lB2fClHD"
      },
      "execution_count": 16,
      "outputs": []
    },
    {
      "cell_type": "markdown",
      "source": [
        "#Triển khai các mô hình"
      ],
      "metadata": {
        "id": "tj7vuYRgEa4V"
      }
    },
    {
      "cell_type": "markdown",
      "source": [
        "#Support Vector Machine Learning(SVM)"
      ],
      "metadata": {
        "id": "u6SKbGcAEieW"
      }
    },
    {
      "cell_type": "code",
      "source": [
        "from sklearn.svm import SVC"
      ],
      "metadata": {
        "id": "BDJlzjkx-Tyr"
      },
      "execution_count": 17,
      "outputs": []
    },
    {
      "cell_type": "code",
      "source": [
        "svc_model =SVC()"
      ],
      "metadata": {
        "id": "0Wt62mGc_AhQ"
      },
      "execution_count": 59,
      "outputs": []
    },
    {
      "cell_type": "code",
      "source": [
        "svc_model.fit(X_train,y_train)"
      ],
      "metadata": {
        "id": "jhC2XwTIBY_X",
        "outputId": "cb94df6d-32d1-4d21-9521-394701ae4046",
        "colab": {
          "base_uri": "https://localhost:8080/",
          "height": 74
        }
      },
      "execution_count": 60,
      "outputs": [
        {
          "output_type": "execute_result",
          "data": {
            "text/plain": [
              "SVC()"
            ],
            "text/html": [
              "<style>#sk-container-id-3 {color: black;background-color: white;}#sk-container-id-3 pre{padding: 0;}#sk-container-id-3 div.sk-toggleable {background-color: white;}#sk-container-id-3 label.sk-toggleable__label {cursor: pointer;display: block;width: 100%;margin-bottom: 0;padding: 0.3em;box-sizing: border-box;text-align: center;}#sk-container-id-3 label.sk-toggleable__label-arrow:before {content: \"▸\";float: left;margin-right: 0.25em;color: #696969;}#sk-container-id-3 label.sk-toggleable__label-arrow:hover:before {color: black;}#sk-container-id-3 div.sk-estimator:hover label.sk-toggleable__label-arrow:before {color: black;}#sk-container-id-3 div.sk-toggleable__content {max-height: 0;max-width: 0;overflow: hidden;text-align: left;background-color: #f0f8ff;}#sk-container-id-3 div.sk-toggleable__content pre {margin: 0.2em;color: black;border-radius: 0.25em;background-color: #f0f8ff;}#sk-container-id-3 input.sk-toggleable__control:checked~div.sk-toggleable__content {max-height: 200px;max-width: 100%;overflow: auto;}#sk-container-id-3 input.sk-toggleable__control:checked~label.sk-toggleable__label-arrow:before {content: \"▾\";}#sk-container-id-3 div.sk-estimator input.sk-toggleable__control:checked~label.sk-toggleable__label {background-color: #d4ebff;}#sk-container-id-3 div.sk-label input.sk-toggleable__control:checked~label.sk-toggleable__label {background-color: #d4ebff;}#sk-container-id-3 input.sk-hidden--visually {border: 0;clip: rect(1px 1px 1px 1px);clip: rect(1px, 1px, 1px, 1px);height: 1px;margin: -1px;overflow: hidden;padding: 0;position: absolute;width: 1px;}#sk-container-id-3 div.sk-estimator {font-family: monospace;background-color: #f0f8ff;border: 1px dotted black;border-radius: 0.25em;box-sizing: border-box;margin-bottom: 0.5em;}#sk-container-id-3 div.sk-estimator:hover {background-color: #d4ebff;}#sk-container-id-3 div.sk-parallel-item::after {content: \"\";width: 100%;border-bottom: 1px solid gray;flex-grow: 1;}#sk-container-id-3 div.sk-label:hover label.sk-toggleable__label {background-color: #d4ebff;}#sk-container-id-3 div.sk-serial::before {content: \"\";position: absolute;border-left: 1px solid gray;box-sizing: border-box;top: 0;bottom: 0;left: 50%;z-index: 0;}#sk-container-id-3 div.sk-serial {display: flex;flex-direction: column;align-items: center;background-color: white;padding-right: 0.2em;padding-left: 0.2em;position: relative;}#sk-container-id-3 div.sk-item {position: relative;z-index: 1;}#sk-container-id-3 div.sk-parallel {display: flex;align-items: stretch;justify-content: center;background-color: white;position: relative;}#sk-container-id-3 div.sk-item::before, #sk-container-id-3 div.sk-parallel-item::before {content: \"\";position: absolute;border-left: 1px solid gray;box-sizing: border-box;top: 0;bottom: 0;left: 50%;z-index: -1;}#sk-container-id-3 div.sk-parallel-item {display: flex;flex-direction: column;z-index: 1;position: relative;background-color: white;}#sk-container-id-3 div.sk-parallel-item:first-child::after {align-self: flex-end;width: 50%;}#sk-container-id-3 div.sk-parallel-item:last-child::after {align-self: flex-start;width: 50%;}#sk-container-id-3 div.sk-parallel-item:only-child::after {width: 0;}#sk-container-id-3 div.sk-dashed-wrapped {border: 1px dashed gray;margin: 0 0.4em 0.5em 0.4em;box-sizing: border-box;padding-bottom: 0.4em;background-color: white;}#sk-container-id-3 div.sk-label label {font-family: monospace;font-weight: bold;display: inline-block;line-height: 1.2em;}#sk-container-id-3 div.sk-label-container {text-align: center;}#sk-container-id-3 div.sk-container {/* jupyter's `normalize.less` sets `[hidden] { display: none; }` but bootstrap.min.css set `[hidden] { display: none !important; }` so we also need the `!important` here to be able to override the default hidden behavior on the sphinx rendered scikit-learn.org. See: https://github.com/scikit-learn/scikit-learn/issues/21755 */display: inline-block !important;position: relative;}#sk-container-id-3 div.sk-text-repr-fallback {display: none;}</style><div id=\"sk-container-id-3\" class=\"sk-top-container\"><div class=\"sk-text-repr-fallback\"><pre>SVC()</pre><b>In a Jupyter environment, please rerun this cell to show the HTML representation or trust the notebook. <br />On GitHub, the HTML representation is unable to render, please try loading this page with nbviewer.org.</b></div><div class=\"sk-container\" hidden><div class=\"sk-item\"><div class=\"sk-estimator sk-toggleable\"><input class=\"sk-toggleable__control sk-hidden--visually\" id=\"sk-estimator-id-3\" type=\"checkbox\" checked><label for=\"sk-estimator-id-3\" class=\"sk-toggleable__label sk-toggleable__label-arrow\">SVC</label><div class=\"sk-toggleable__content\"><pre>SVC()</pre></div></div></div></div></div>"
            ]
          },
          "metadata": {},
          "execution_count": 60
        }
      ]
    },
    {
      "cell_type": "code",
      "source": [
        "y_pred =  svc_model.predict(X_test)"
      ],
      "metadata": {
        "id": "Ya1IznDfBdA4"
      },
      "execution_count": 61,
      "outputs": []
    },
    {
      "cell_type": "code",
      "source": [
        "print(classification_report(y_test,y_pred))\n",
        "acc_score = accuracy_score(y_test,y_pred)"
      ],
      "metadata": {
        "id": "wm3YJKsoBjgJ",
        "outputId": "8ce810df-1ff4-488c-e6fa-db7961866723",
        "colab": {
          "base_uri": "https://localhost:8080/"
        }
      },
      "execution_count": 62,
      "outputs": [
        {
          "output_type": "stream",
          "name": "stdout",
          "text": [
            "              precision    recall  f1-score   support\n",
            "\n",
            "           0       0.62      0.71      0.66       400\n",
            "           1       0.66      0.56      0.61       400\n",
            "\n",
            "    accuracy                           0.64       800\n",
            "   macro avg       0.64      0.64      0.63       800\n",
            "weighted avg       0.64      0.64      0.63       800\n",
            "\n"
          ]
        }
      ]
    },
    {
      "cell_type": "markdown",
      "source": [
        "Test kernel"
      ],
      "metadata": {
        "id": "zeksRQNaNf9Z"
      }
    },
    {
      "cell_type": "code",
      "source": [
        "acc_list = []\n",
        "kernels = ['poly','rbf','sigmoid']\n",
        "for kernel in kernels:\n",
        "  svc_test = SVC(kernel = kernel)\n",
        "  svc_test.fit(X_train,y_train)\n",
        "  y_pred = svc_test.predict(X_test)\n",
        "  acc_test = accuracy_score(y_test,y_pred)\n",
        "  acc_list.append(acc_test)\n",
        "  if(acc_test > acc_score):\n",
        "      acc_score = acc_test\n",
        "      svc_model = svc_test\n",
        "plt.hist((acc_list))\n",
        "plt.show()"
      ],
      "metadata": {
        "id": "rQCUrEj_NidA",
        "outputId": "3649b121-5484-43ca-d417-96a2728171b4",
        "colab": {
          "base_uri": "https://localhost:8080/",
          "height": 430
        }
      },
      "execution_count": 90,
      "outputs": [
        {
          "output_type": "display_data",
          "data": {
            "text/plain": [
              "<Figure size 640x480 with 1 Axes>"
            ],
            "image/png": "[encoded data removed]"
          },
          "metadata": {}
        }
      ]
    },
    {
      "cell_type": "markdown",
      "source": [
        "kernel = rbf(radius bais funtion) đang có mức hiệu suất tốt hơn"
      ],
      "metadata": {
        "id": "63yTcQ9ARRhf"
      }
    },
    {
      "cell_type": "markdown",
      "source": [
        "Change parameter C với kernel = rbf"
      ],
      "metadata": {
        "id": "uk9MwBUuHeiH"
      }
    },
    {
      "cell_type": "code",
      "source": [
        "C = np.arange(5,100,1)\n",
        "acc_list = []\n",
        "for c in C:\n",
        "  svc_test = SVC(C=c)\n",
        "  svc_test.fit(X_train,y_train)\n",
        "  y_pred = svc_test.predict(X_test)\n",
        "  acc_test = accuracy_score(y_test,y_pred)\n",
        "  acc_list.append(acc_test)\n",
        "  if(acc_test > acc_score):\n",
        "      acc_score = acc_test\n",
        "      svc_model = svc_test\n",
        "plt.plot(C,np.array(acc_list))\n",
        "plt.xlabel('C')\n",
        "plt.ylabel('accurary')\n",
        "plt.legend\n",
        "plt.show()"
      ],
      "metadata": {
        "id": "S5dqPOf1CggY",
        "outputId": "2f6fe0ff-6c5a-4034-e1c8-ffc46a6105d1",
        "colab": {
          "base_uri": "https://localhost:8080/",
          "height": 453
        }
      },
      "execution_count": 65,
      "outputs": [
        {
          "output_type": "display_data",
          "data": {
            "text/plain": [
              "<Figure size 640x480 with 1 Axes>"
            ],
            "image/png": "[encoded data removed]"
          },
          "metadata": {}
        }
      ]
    },
    {
      "cell_type": "markdown",
      "source": [
        "    Dữ liệu khi chạy với C từ 0.001 - 5 với step = 0.1\n",
        "\n",
        "  ![image.png](data:image/png;base64,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)"
      ],
      "metadata": {
        "id": "NRtss9C1Kk8A"
      }
    },
    {
      "cell_type": "code",
      "source": [
        "accuracy_score(y_test,svc_model.predict(X_test))"
      ],
      "metadata": {
        "id": "iQbXelp6LJyJ",
        "outputId": "48785854-a2ef-4eeb-b705-293ba33027e4",
        "colab": {
          "base_uri": "https://localhost:8080/"
        }
      },
      "execution_count": 66,
      "outputs": [
        {
          "output_type": "execute_result",
          "data": {
            "text/plain": [
              "0.6675"
            ]
          },
          "metadata": {},
          "execution_count": 66
        }
      ]
    }
  ]
}